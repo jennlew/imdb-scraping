{
 "cells": [
  {
   "cell_type": "code",
   "execution_count": null,
   "metadata": {},
   "outputs": [],
   "source": [
    "import requests\n",
    "from bs4 import BeautifulSoup\n",
    "import re\n",
    "import pandas as pd\n",
    "import numpy as np\n",
    "import itertools\n",
    "import time\n",
    "import concurrent.futures\n",
    "import random"
   ]
  },
  {
   "cell_type": "code",
   "execution_count": null,
   "metadata": {},
   "outputs": [],
   "source": [
    "def getSoup(url):\n",
    "    response = requests.get(url)\n",
    "    soup = BeautifulSoup(response.text, 'html.parser')\n",
    "    \n",
    "    return soup\n",
    "\n",
    "\n",
    "def getReviews(soup):\n",
    "    user_review_list = soup.find_all('a', attrs={'class':'title'})\n",
    "    \n",
    "    user_review_tag = [review.attrs['href'] for review in user_review_list\n",
    "                      if review.attrs['href'].startswith('/review') & review.attrs['href'].endswith('/')]\n",
    "    \n",
    "    user_review_tag = list(dict.fromkeys(user_review_tag))\n",
    "    \n",
    "    #user_review_link = \"https://www.imdb.com\" , user_review_tag\n",
    "    \n",
    "    user_review_link = [\"https://www.imdb.com\" + review_tag for review_tag in user_review_tag]\n",
    "    \n",
    "    return user_review_link\n",
    "\n",
    "\n",
    "#def getReviewText(review_url):\n",
    "    #soup = getSoup(review_url)\n",
    "    #tag = soup.find('div', attrs={'class': 'text show-more__control'})\n",
    "    #return tag.getText()\n",
    "review = []\n",
    "def getReviewText(review_url):\n",
    "    soup = getSoup(review_url)\n",
    "    for url in review_url:\n",
    "        tag = soup.find('div', attrs={'class': 'text show-more__control'})\n",
    "        review = tag.getText() if tag else \"No review\"\n",
    "    return review\n",
    "title = []\n",
    "def getMovieTitle(review_url):\n",
    "    soup = getSoup(review_url)\n",
    "    for url in review_url:\n",
    "        tag = soup.find('h1', attrs = {'class': \"header\"})\n",
    "        tag = tag.find('a')\n",
    "        title = tag.getText() if tag else \"No title\"\n",
    "        #title = tag.children.getText()\n",
    "    return title"
   ]
  },
  {
   "cell_type": "code",
   "execution_count": null,
   "metadata": {},
   "outputs": [],
   "source": [
    "start = time.time()\n",
    "movie_review_list = []\n",
    "def getAllReviews():\n",
    "    \n",
    "    time.sleep(random.uniform(0, 0.2))\n",
    "    url = \"https://www.imdb.com/search/title/?title_type=feature&release_date=2014-01-01,2019-12-31&countries=gb&languages=en&count=10\"\n",
    "\n",
    "    movies_soup = getSoup(url)\n",
    "    movie_tags = movies_soup.find_all('a', attrs={'class': None})\n",
    "\n",
    "    movie_tags = [tag.attrs['href'] for tag in movie_tags\n",
    "                 if tag.attrs['href'].startswith('/title') & tag.attrs['href'].endswith('/')]\n",
    "\n",
    "    movie_tags = list(dict.fromkeys(movie_tags))\n",
    "\n",
    "    #print(\"there are a total of \" + str(len(movie_tags)) + \" movie titles\")\n",
    "    #print('displaying 10 titles')\n",
    "\n",
    "    base_url = \"https://www.imdb.com\"\n",
    "    movie_links = [base_url + tag + 'reviews' for tag in movie_tags]\n",
    "    #print(\"there are a total of \" + str(len(movie_links)) + \" movie user reviews\")\n",
    "    #print(\"displaying 10 user review links\")\n",
    "    #print(movie_links)\n",
    "    \n",
    "    movie_soups = [getSoup(link) for link in movie_links]\n",
    "    movie_review_list = [getReviews(movie_soup) for movie_soup in movie_soups]\n",
    "\n",
    "    movie_review_list = list(itertools.chain(*movie_review_list))\n",
    "    print(len(movie_review_list))\n",
    "\n",
    "    print(\"there are a total of \" + str(len(movie_review_list)) + \" individual movie reviews\")\n",
    "    print(\"displaying 10 reviews\")\n",
    "\n",
    "    return movie_review_list\n",
    "\n",
    "getAllReviews()\n",
    "movie_review_list = getAllReviews()\n",
    "movie_titles = []\n",
    "review_texts = []\n",
    "m_title = []\n",
    "r_text = []\n",
    "\n",
    "\n",
    "\n",
    "with concurrent.futures.ThreadPoolExecutor() as executor:\n",
    "    for url in movie_review_list:\n",
    "        movie_titles.append(executor.submit(getMovieTitle, movie_review_list))\n",
    "        \n",
    "    for url in movie_review_list:\n",
    "        review_texts.append(executor.submit(getReviewText, movie_review_list))\n",
    "        \n",
    "    for future in concurrent.futures.as_completed(review_texts):\n",
    "        r_text.append(future.result())\n",
    "    \n",
    "    for future in concurrent.futures.as_completed(movie_titles):\n",
    "        m_title.append(future.result())\n",
    "    \n",
    "end = time.time()\n",
    "\n",
    "print(\"Time Taken: {:.6f}s\".format(end-start))\n"
   ]
  },
  {
   "cell_type": "code",
   "execution_count": null,
   "metadata": {},
   "outputs": [],
   "source": [
    "df = pd.DataFrame({'movie': m_title, \"user_review_permalink\": movie_review_list, \n",
    "                  'user_review': r_text})"
   ]
  },
  {
   "cell_type": "code",
   "execution_count": null,
   "metadata": {},
   "outputs": [],
   "source": [
    "df.head()"
   ]
  },
  {
   "cell_type": "code",
   "execution_count": null,
   "metadata": {},
   "outputs": [],
   "source": [
    "df.to_csv(\"userReviews.csv\", index=False)"
   ]
  }
 ],
 "metadata": {
  "kernelspec": {
   "display_name": "Python 3",
   "language": "python",
   "name": "python3"
  },
  "language_info": {
   "codemirror_mode": {
    "name": "ipython",
    "version": 3
   },
   "file_extension": ".py",
   "mimetype": "text/x-python",
   "name": "python",
   "nbconvert_exporter": "python",
   "pygments_lexer": "ipython3",
   "version": "3.8.3"
  }
 },
 "nbformat": 4,
 "nbformat_minor": 4
}
